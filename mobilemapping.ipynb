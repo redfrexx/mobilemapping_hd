{
 "cells": [
  {
   "cell_type": "code",
   "execution_count": 360,
   "metadata": {},
   "outputs": [],
   "source": [
    "import os\n",
    "import geopandas as gpd\n",
    "import pandas as pd\n",
    "from shapely.geometry import Point\n",
    "import plotly.express as px\n",
    "import dash\n",
    "import dash_core_components as dcc\n",
    "import dash_html_components as html\n",
    "from dash.dependencies import Input, Output, State\n",
    "import plotly.graph_objects as go\n",
    "from jupyterlab_dash import AppViewer\n",
    "import numpy as np"
   ]
  },
  {
   "cell_type": "markdown",
   "metadata": {},
   "source": [
    "#### File exported from Kobo"
   ]
  },
  {
   "cell_type": "code",
   "execution_count": 361,
   "metadata": {},
   "outputs": [],
   "source": [
    "filepath = \"./data/Verkehrssicherheit beim Fahrradfahren - latest version - labels - 2020-05-19-10-28-30.csv\"\n",
    "plot_dir = \".\"\n",
    "mapbox_access_token = \"pk.eyJ1IjoiY2hsdWR3aWciLCJhIjoiY2pxM3p6cHp4MWpvaTN4cHBhOTA1aWZ4diJ9.FS-wzKCyyUVqHIADwgTkEw\""
   ]
  },
  {
   "cell_type": "markdown",
   "metadata": {},
   "source": [
    "#### Read data and reformat"
   ]
  },
  {
   "cell_type": "code",
   "execution_count": 392,
   "metadata": {},
   "outputs": [],
   "source": [
    "data = pd.read_csv(filepath, sep=\";\").iloc[2:].set_index(\"_index\")"
   ]
  },
  {
   "cell_type": "code",
   "execution_count": 393,
   "metadata": {},
   "outputs": [],
   "source": [
    "color_dict = {\"sehr gut\": 'rgb(0,104,55)', \"gut\": 'rgb(102,189,99)', \"tendenziell eher gut\": 'rgb(217,239,139)',\n",
    "              \"tendenziell eher schlecht\": 'rgb(254,224,139)', \"schlecht\":'rgb(244,109,67)', \"sehr schlecht\": 'rgb(165,0,38)'}\n",
    "    "
   ]
  },
  {
   "cell_type": "markdown",
   "metadata": {},
   "source": [
    "remove trailing spaces"
   ]
  },
  {
   "cell_type": "code",
   "execution_count": 394,
   "metadata": {},
   "outputs": [],
   "source": [
    "data = data.applymap(lambda x: x.rstrip() if isinstance(x, str) else x)"
   ]
  },
  {
   "cell_type": "markdown",
   "metadata": {},
   "source": [
    "Convert lat lon to float"
   ]
  },
  {
   "cell_type": "code",
   "execution_count": 395,
   "metadata": {},
   "outputs": [],
   "source": [
    "data = data.rename(columns={\"_Nehme deinen Standort auf_longitude\": \"lon\", \"_Nehme deinen Standort auf_latitude\": \"lat\"})\n",
    "data[\"lat\"] = data[\"lat\"].astype(\"float\")\n",
    "data[\"lon\"] = data[\"lon\"].astype(\"float\")"
   ]
  },
  {
   "cell_type": "markdown",
   "metadata": {},
   "source": [
    "Remove unnecessary columns"
   ]
  },
  {
   "cell_type": "code",
   "execution_count": 396,
   "metadata": {},
   "outputs": [],
   "source": [
    "drop_cols = ['subscriberid', 'deviceid', '_uuid', '_submission_time', '_validation_status','_id', 'start', 'end',\n",
    "            '_Nehme deinen Standort auf_altitude', '_Nehme deinen Standort auf_precision', 'Nehme deinen Standort auf']\n",
    "data.drop(drop_cols, axis=1, inplace=True)"
   ]
  },
  {
   "cell_type": "markdown",
   "metadata": {},
   "source": [
    "Replace Nan"
   ]
  },
  {
   "cell_type": "code",
   "execution_count": 397,
   "metadata": {},
   "outputs": [],
   "source": [
    "data = data.fillna(\"-\")"
   ]
  },
  {
   "cell_type": "code",
   "execution_count": 398,
   "metadata": {},
   "outputs": [],
   "source": [
    "#data.columns"
   ]
  },
  {
   "cell_type": "markdown",
   "metadata": {},
   "source": [
    "Add description for pop ups"
   ]
  },
  {
   "cell_type": "code",
   "execution_count": 399,
   "metadata": {},
   "outputs": [],
   "source": [
    "data = pd.concat([data]*3, ignore_index=True)\n",
    "data['Wie gut findest du den Radweg?'] = color_dict.keys()\n",
    "data[\"lon\"] = data[\"lon\"] + np.random.randn(6)*0.005\n",
    "data[\"lat\"] = data[\"lat\"] + np.random.randn(6)*0.005"
   ]
  },
  {
   "cell_type": "code",
   "execution_count": 400,
   "metadata": {},
   "outputs": [],
   "source": [
    "#print(px.colors.diverging.RdYlGn)"
   ]
  },
  {
   "cell_type": "markdown",
   "metadata": {},
   "source": [
    "## Create plots"
   ]
  },
  {
   "cell_type": "code",
   "execution_count": 401,
   "metadata": {
    "code_folding": []
   },
   "outputs": [],
   "source": [
    "def make_plot(criteria, sub_criteria, data, outfile, show=False):\n",
    "    \n",
    "    color_dict = {\"sehr gut\": 'rgb(0,104,55)', \"gut\": 'rgb(102,189,99)', \"tendenziell eher gut\": 'rgb(217,239,139)',\n",
    "              \"tendenziell eher schlecht\": 'rgb(254,224,139)', \"schlecht\":'rgb(244,109,67)', \"sehr schlecht\": 'rgb(165,0,38)'}\n",
    "    \n",
    "    sub_data = data.loc[:, sub_criteria]\n",
    "    sub_data[\"desc\"] = sub_data.apply(lambda row: \"<br>\".join([\"<b>{}</b>: <i>{}</i>\".format(k, v) \n",
    "                                                               for k, v in zip(row.index, row) \n",
    "                                                               if k not in [\"lat\", \"lon\", criteria]]), axis=1)\n",
    "    fig = go.Figure()\n",
    "    for key, col in color_dict.items():\n",
    "        key_data = sub_data.loc[sub_data[criteria] == key]\n",
    "        fig.add_trace(go.Scattermapbox(\n",
    "            lat=key_data[\"lat\"],\n",
    "            lon=key_data[\"lon\"],\n",
    "            mode='markers',\n",
    "            marker=go.scattermapbox.Marker(\n",
    "                size=10, \n",
    "                color=col,\n",
    "            ),\n",
    "            text=key_data[\"desc\"],\n",
    "            hoverinfo=\"text\",\n",
    "            name=key))    \n",
    "\n",
    "    fig.update_layout(\n",
    "        hovermode='closest',\n",
    "        height=800, \n",
    "        title=criteria,\n",
    "        showlegend=True,\n",
    "        legend_title_text='Bewertung',\n",
    "        mapbox=dict(\n",
    "            accesstoken=mapbox_access_token,\n",
    "            bearing=0,\n",
    "            center=go.layout.mapbox.Center(\n",
    "                lat=49.408404,\n",
    "                lon=8.692645\n",
    "            ),\n",
    "            zoom=12\n",
    "        )\n",
    "    )\n",
    "    if show:\n",
    "        fig.show()\n",
    "    fig.write_html(outfile)"
   ]
  },
  {
   "cell_type": "markdown",
   "metadata": {},
   "source": [
    "## Plot 1"
   ]
  },
  {
   "cell_type": "code",
   "execution_count": 402,
   "metadata": {},
   "outputs": [],
   "source": [
    "criteria = \"Wie gut findest du den Radweg?\"\n",
    "sub_criteria = [criteria, 'lat', 'lon', 'Wie gut findest du die technische Ausstattung der Radinfrastruktur?',\n",
    "               'Wie ist dein generelles Sicherheitsgefühl hier?', 'Wie ist dein generelles Fahrgefühl hier?']\n",
    "outfilename = os.path.join(plot_dir, \"plot1.html\")\n",
    "make_plot(criteria, sub_criteria, data, outfilename)"
   ]
  },
  {
   "cell_type": "markdown",
   "metadata": {},
   "source": [
    "## Plot 2"
   ]
  },
  {
   "cell_type": "code",
   "execution_count": 403,
   "metadata": {},
   "outputs": [],
   "source": [
    "criteria = \"Wie gut findest du die technische Ausstattung der Radinfrastruktur?\"\n",
    "sub_criteria= [criteria, 'lat', 'lon', 'Ausstattung: ', 'Bauliche oder markierte Trennung zu FußgängerInnen',\n",
    "       'Bauliche oder markierte Trennung von Autos', 'Bordsteinabsenkungen',\n",
    "       'Beleuchtung', 'Radwegbelag', 'Radwegmarkierung', \n",
    "       'Rote Markierung an Kreuzungen','gibt es eine zusätzliche technische Ausstattung?'] # 'Radwegbreite ',\n",
    "outfilename = os.path.join(plot_dir, \"plot2.html\")\n",
    "make_plot(criteria, sub_criteria, data, outfilename)"
   ]
  },
  {
   "cell_type": "markdown",
   "metadata": {},
   "source": [
    "## Plot 3"
   ]
  },
  {
   "cell_type": "code",
   "execution_count": 404,
   "metadata": {},
   "outputs": [],
   "source": [
    "criteria = \"Wie ist dein generelles Sicherheitsgefühl hier?\"\n",
    "sub_criteria= [criteria, 'lat', 'lon', 'Gefahren:',\n",
    "       'Sichtbarkeit für AutofahrerInnen', 'Abstand zu Autos',\n",
    "       'Abstand zu FußgängerInnen', 'Angemessene Geschwindigkeit der Autos',\n",
    "       'Gibt es eine zusätzliche Gefahrenquelle? ']\n",
    "outfilename = os.path.join(plot_dir, \"plot3.html\")\n",
    "make_plot(criteria, sub_criteria, data, outfilename)"
   ]
  },
  {
   "cell_type": "markdown",
   "metadata": {},
   "source": [
    "## Plot 4"
   ]
  },
  {
   "cell_type": "code",
   "execution_count": 405,
   "metadata": {},
   "outputs": [],
   "source": [
    "criteria = \"Wie ist dein generelles Fahrgefühl hier?\"\n",
    "sub_criteria = [criteria, 'lat', 'lon', 'Einflüsse:',\n",
    "       'Fahrfluss (z.B. grüner Pfeil für Radfahrende, Fahrradampel, ...)',\n",
    "       'Luftqualität', 'Lärmbelastung', 'Begrünung', 'Übersichtlichkeit',\n",
    "       'Beschattung', 'Gibt es eine zusätzliche Gefahrenquelle? .1']\n",
    "outfilename = os.path.join(plot_dir, \"plot4.html\")\n",
    "make_plot(criteria, sub_criteria, data, outfilename)"
   ]
  },
  {
   "cell_type": "code",
   "execution_count": null,
   "metadata": {},
   "outputs": [],
   "source": []
  },
  {
   "cell_type": "code",
   "execution_count": null,
   "metadata": {},
   "outputs": [],
   "source": [
    "# Build AppViewer \n",
    "viewer = AppViewer()"
   ]
  },
  {
   "cell_type": "code",
   "execution_count": null,
   "metadata": {},
   "outputs": [],
   "source": [
    "criteria = [{\"label\": x, \"value\": x} for x in data.columns]"
   ]
  },
  {
   "cell_type": "code",
   "execution_count": null,
   "metadata": {},
   "outputs": [],
   "source": [
    "# Build App\n",
    "external_stylesheets = ['https://codepen.io/chriddyp/pen/bWLwgP.css']\n",
    "mapbox_access_token = \"pk.eyJ1IjoiY2hsdWR3aWciLCJhIjoiY2pxM3p6cHp4MWpvaTN4cHBhOTA1aWZ4diJ9.FS-wzKCyyUVqHIADwgTkEw\"\n",
    "app = dash.Dash(__name__, external_stylesheets=external_stylesheets)\n",
    "\n",
    "app.layout = html.Div([\n",
    "    html.Div([\n",
    "        html.Label(\"Kriterien\"),\n",
    "        dcc.Dropdown(id=\"criteria\", multi=False, value=\"Wie gut findest du den Radweg?\", options=criteria),\n",
    "    ], style={'width': '70%', \"display\":\"inline-block\", 'margin': '5px 5px 5px 5px'}),\n",
    "    html.Div([\n",
    "        dcc.Graph(id='graph')\n",
    "    ], style={'width': '100%', 'height': '1000px'})\n",
    "])\n",
    "\n",
    "@app.callback(\n",
    "    Output('graph', 'figure'),\n",
    "    [Input('criteria', 'value')]\n",
    ")\n",
    "def set_map(criteria):\n",
    "    #px.set_mapbox_access_token(\"pk.eyJ1IjoiY2hsdWR3aWciLCJhIjoiY2pxM3p6cHp4MWpvaTN4cHBhOTA1aWZ4diJ9.FS-wzKCyyUVqHIADwgTkEw\")\n",
    "    #fig = px.scatter_mapbox(data, lat=\"lat\", lon=\"lon\", color=criteria, hover_data=[criteria], range_color=[0,5],hoverinfo=\"text\",\n",
    "    #                  color_continuous_scale=px.colors.diverging.RdYlGn, size_max=15, zoom=12, height=750)\n",
    "    #fig.show()\n",
    "    \n",
    "    fig = go.Figure(go.Scattermapbox(\n",
    "            lat=data[\"lat\"],\n",
    "            lon=data[\"lon\"],\n",
    "            mode='markers',\n",
    "            marker_color=data[criteria],\n",
    "            marker=go.scattermapbox.Marker(\n",
    "                size=10, \n",
    "                showscale=True,\n",
    "                cmax=5,\n",
    "                cmin=0,\n",
    "                colorscale=px.colors.diverging.RdYlGn\n",
    "            ),\n",
    "            text=data[\"desc\"],\n",
    "            hoverinfo=\"text\",\n",
    "        ))\n",
    "\n",
    "    fig.update_layout(\n",
    "        hovermode='closest',\n",
    "        height=800, \n",
    "        mapbox=dict(\n",
    "            accesstoken=mapbox_access_token,\n",
    "            bearing=0,\n",
    "            center=go.layout.mapbox.Center(\n",
    "                lat=49.408404,\n",
    "                lon=8.692645\n",
    "            ),\n",
    "            zoom=12\n",
    "        )\n",
    "    )\n",
    "\n",
    "    fig.show()\n",
    "    \n",
    "    return fig\n",
    "    \n",
    "viewer.show(app)"
   ]
  },
  {
   "cell_type": "code",
   "execution_count": null,
   "metadata": {},
   "outputs": [],
   "source": []
  }
 ],
 "metadata": {
  "kernelspec": {
   "display_name": "Python 3",
   "language": "python",
   "name": "python3"
  },
  "language_info": {
   "codemirror_mode": {
    "name": "ipython",
    "version": 3
   },
   "file_extension": ".py",
   "mimetype": "text/x-python",
   "name": "python",
   "nbconvert_exporter": "python",
   "pygments_lexer": "ipython3",
   "version": "3.7.6"
  }
 },
 "nbformat": 4,
 "nbformat_minor": 4
}
